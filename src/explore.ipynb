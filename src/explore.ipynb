{
    "cells": [
        {
            "cell_type": "code",
            "execution_count": 85,
            "metadata": {},
            "outputs": [
                {
                    "data": {
                        "text/html": [
                            "<div>\n",
                            "<style scoped>\n",
                            "    .dataframe tbody tr th:only-of-type {\n",
                            "        vertical-align: middle;\n",
                            "    }\n",
                            "\n",
                            "    .dataframe tbody tr th {\n",
                            "        vertical-align: top;\n",
                            "    }\n",
                            "\n",
                            "    .dataframe thead th {\n",
                            "        text-align: right;\n",
                            "    }\n",
                            "</style>\n",
                            "<table border=\"1\" class=\"dataframe\">\n",
                            "  <thead>\n",
                            "    <tr style=\"text-align: right;\">\n",
                            "      <th></th>\n",
                            "      <th>Track</th>\n",
                            "      <th>Popularity</th>\n",
                            "      <th>Duration</th>\n",
                            "    </tr>\n",
                            "  </thead>\n",
                            "  <tbody>\n",
                            "    <tr>\n",
                            "      <th>0</th>\n",
                            "      <td>1932</td>\n",
                            "      <td>64</td>\n",
                            "      <td>3.014717</td>\n",
                            "    </tr>\n",
                            "    <tr>\n",
                            "      <th>1</th>\n",
                            "      <td>Héroes del Sábado</td>\n",
                            "      <td>62</td>\n",
                            "      <td>4.079450</td>\n",
                            "    </tr>\n",
                            "    <tr>\n",
                            "      <th>2</th>\n",
                            "      <td>PRMVR</td>\n",
                            "      <td>60</td>\n",
                            "      <td>3.050217</td>\n",
                            "    </tr>\n",
                            "  </tbody>\n",
                            "</table>\n",
                            "</div>"
                        ],
                        "text/plain": [
                            "               Track  Popularity  Duration\n",
                            "0               1932          64  3.014717\n",
                            "1  Héroes del Sábado          62  4.079450\n",
                            "2              PRMVR          60  3.050217"
                        ]
                    },
                    "execution_count": 85,
                    "metadata": {},
                    "output_type": "execute_result"
                }
            ],
            "source": [
                "from dotenv import load_dotenv\n",
                "import os\n",
                "import pandas as pd\n",
                "load_dotenv()\n",
                "\n",
                "client_id = os.environ.get(\"CLIENT_ID\")\n",
                "client_secret = os.environ.get(\"CLIENT_SECRET\")\n",
                "\n",
                "import spotipy\n",
                "from spotipy.oauth2 import SpotifyClientCredentials\n",
                "\n",
                "sp = spotipy.Spotify(client_credentials_manager=SpotifyClientCredentials(client_id = client_id, client_secret=client_secret))\n",
                "band = 'spotify:artist:1vBn5Puz4mdZopZEHq1QDq'\n",
                "artist = sp.artist(band)\n",
                "\n",
                "top_tracks = sp.artist_top_tracks(band)\n",
                "track_data = []\n",
                "for track in top_tracks['tracks']:\n",
                "    track_ = track['name']\n",
                "    popularity = track['popularity']\n",
                "    duration = track['duration_ms']/60000\n",
                "    track_data.append({\"Track\": track_, \"Popularity\" : popularity, \"Duration\" : duration})\n",
                "       \n",
                "the_moda = pd.DataFrame(track_data)\n",
                "the_moda[:3]\n"
            ]
        }
    ],
    "metadata": {
        "kernelspec": {
            "display_name": "Python 3.8.13 64-bit ('3.8.13')",
            "language": "python",
            "name": "python3"
        },
        "language_info": {
            "codemirror_mode": {
                "name": "ipython",
                "version": 3
            },
            "file_extension": ".py",
            "mimetype": "text/x-python",
            "name": "python",
            "nbconvert_exporter": "python",
            "pygments_lexer": "ipython3",
            "version": "3.11.4"
        },
        "orig_nbformat": 4,
        "vscode": {
            "interpreter": {
                "hash": "110cc1dee26208153f2972f08a2ad52b6a56238dc66d48e87fb757ef2996db56"
            }
        }
    },
    "nbformat": 4,
    "nbformat_minor": 2
}
